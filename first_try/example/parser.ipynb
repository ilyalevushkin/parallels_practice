{
 "cells": [
  {
   "cell_type": "code",
   "execution_count": 6,
   "metadata": {},
   "outputs": [],
   "source": [
    "import requests\n",
    "from bs4 import BeautifulSoup\n",
    "import numpy as np\n",
    "import time\n",
    "import os\n",
    "\n",
    "def load_data(url):\n",
    "    r = requests.get(url) # отправка http запроса\n",
    "    soup = BeautifulSoup(r.text, 'html.parser')# создание html парсера\n",
    "    reviews = soup.find_all(class_='_reachbanner_')# сохранение только отзывов\n",
    "    reviews_clean = []\n",
    "    for review in reviews:# очистка от лишней html разметки\n",
    "        reviews_clean.append(review.find_all(text=True))\n",
    "    return reviews_clean"
   ]
  },
  {
   "cell_type": "code",
   "execution_count": 21,
   "metadata": {},
   "outputs": [],
   "source": [
    "def convert(reviews): # преобразование отзывов в строки\n",
    "    review_converted = []\n",
    "    for review in reviews:\n",
    "        for i in review:\n",
    "            map(str, i)\n",
    "        review = ''.join(review)\n",
    "        review_converted.append(review)\n",
    "    return review_converted\n",
    "def get_name(url): # получение имени фильма\n",
    "    r = requests.get(url)\n",
    "    soup = BeautifulSoup(r.text, 'html.parser')\n",
    "    name = soup.find(class_='alternativeHeadline')\n",
    "    print(soup)\n",
    "    name_clean = name.find_all(text = True)\n",
    "    # Сохранение первого элемента, т. к. извлекается также год фильма\n",
    "    return str(name_clean[0])"
   ]
  },
  {
   "cell_type": "code",
   "execution_count": 11,
   "metadata": {},
   "outputs": [],
   "source": [
    "def parsing(url, status, path):\n",
    "    page = 1\n",
    "    delays = [11, 12, 13, 11.5, 12.5, 13.5, 11.2, 12.3, 11.8]\n",
    "    name = get_name(url)\n",
    "    print(name)\n",
    "    time.sleep(np.random.choice(delays)) # Выбор рандомной задержки\n",
    "    while True:\n",
    "        loaded_data = load_data(url + 'reviews/ord/date/status/{}/perpage/200/page/{}/'.format(status, page))\n",
    "        if loaded_data == []:\n",
    "            break\n",
    "        else:\n",
    "            # Eсли папок с классами не существует, программа их создаст\n",
    "            if not os.path.exists(path + r'\\{}'.format(status)):\n",
    "                os.makedirs(path + r'\\{}'.format(status))\n",
    "            converted_data = convert(loaded_data)\n",
    "            # Сохранение отзывов\n",
    "            for i, review in enumerate(converted_data):\n",
    "                with open(path + r'\\{}\\{}_{}_{}.txt'.format(status, name, page, i), 'w', encoding = 'utf-8') as output:\n",
    "                    output.write(review)\n",
    "            page += 1\n",
    "            time.sleep(np.random.choice(delays))"
   ]
  },
  {
   "cell_type": "code",
   "execution_count": 22,
   "metadata": {},
   "outputs": [
    {
     "name": "stdout",
     "output_type": "stream",
     "text": [
      "<!DOCTYPE html>\n",
      "<html class=\"i-ua_js_no i-ua_css_standard\" lang=\"ru\" prefix=\"og: http://ogp.me/ns#\"><head><meta charset=\"utf-8\"/><meta content=\"IE=edge\" http-equiv=\"X-UA-Compatible\"/><title>ÐÐ¹!</title><script>;(function(d,e,c,r){e=d.documentElement;c=\"className\";r=\"replace\";e[c]=e[c][r](\"i-ua_js_no\",\"i-ua_js_yes\");if(d.compatMode!=\"CSS1Compat\")e[c]=e[c][r](\"i-ua_css_standart\",\"i-ua_css_quirks\")})(document);;(function(d,e,c,n,w,v,f){e=d.documentElement;c=\"className\";n=\"createElementNS\";f=\"firstChild\";w=\"http://www.w3.org/2000/svg\";e[c]+=\" i-ua_svg_\"+(!!d[n]&&!!d[n](w,\"svg\").createSVGRect?\"yes\":\"no\");v=d.createElement(\"div\");v.innerHTML=\"<svg/>\";e[c]+=\" i-ua_inlinesvg_\"+((v[f]&&v[f].namespaceURI)==w?\"yes\":\"no\");})(document);</script><meta content=\"https://yastatic.net/s3/home/logos/share/share-logo-ru.png\" property=\"og:image\"/><meta content=\"ÐÐ¸Ð½Ð¾ÐÐ¾Ð¸ÑÐº\" property=\"og:title\"/><meta content=\"ÐÐ°Ð¹Ð´ÑÑÑÑ Ð²ÑÑ\" property=\"og:description\"/><script data-reqid=\"1594881723442594-4222239543137833113\" id=\"error-counter\" src=\"captcha.error-counter.js?rnd=420545506289\"></script><!--[if gt IE 8]><!--><link href=\"captcha.min.css?rnd=420545506289\" rel=\"stylesheet\"/><!--<![endif]--><meta content=\"width=device-width, initial-scale=1\" name=\"viewport\"/></head><body class=\"b-page b-page_service_kinopoisk b-page__body i-ua i-global i-bem\" data-bem='{\"i-ua\":{},\"i-global\":{\"lang\":\"ru\",\"tld\":\"ru\",\"content-region\":\"ru\",\"click-host\":\"//clck.yandex.ru\",\"passport-host\":\"https://passport.yandex.ru\",\"pass-host\":\"https://pass.yandex.ru\",\"social-host\":\"https://social.yandex.ru\",\"export-host\":\"https://export.yandex.ru\",\"login\":\"\",\"lego-static-host\":\"https://yastatic.net/lego/2.10-142\"}}'><div class=\"central\"><div class=\"logo-wrapper\"><a class=\"logo-wrapper__logo logo-wrapper__logo_name_kinopoisk\" href=\"https://www.kinopoisk.ru\" title=\"ÐÐ¸Ð½Ð¾ÐÐ¾Ð¸ÑÐº\"></a></div><p class=\"text-wrapper text-wrapper_info\">ÐÐ°Ð¼ Ð¾ÑÐµÐ½Ñ Ð¶Ð°Ð»Ñ, Ð½Ð¾ Ð·Ð°Ð¿ÑÐ¾ÑÑ, Ð¿Ð¾ÑÑÑÐ¿Ð¸Ð²ÑÐ¸Ðµ Ñ Ð²Ð°ÑÐµÐ³Ð¾ IP-Ð°Ð´ÑÐµÑÐ°, Ð¿Ð¾Ñ",
      "Ð¾Ð¶Ð¸ Ð½Ð° Ð°Ð²ÑÐ¾Ð¼Ð°ÑÐ¸ÑÐµÑÐºÐ¸Ðµ.</p><form action=\"/checkcaptcha\" class=\"form form_error_no\" method=\"get\" onsubmit=\"ym(10630330, 'reachGoal', 'enter_captcha_value', { 'req_id': '1594881723442594-4222239543137833113' }); return true;\"><input class=\"form__key\" name=\"key\" type=\"hidden\" value=\"00A3akk03M4x42hpoqEJRqtwJzSIPaKI_0/1594881723/d70b4dcf18c7c8e4ba94e7baf9703bc2_70c016293686eb214949e7fbb9e3bc9d\"/><input class=\"form__retpath\" name=\"retpath\" type=\"hidden\" value=\"https://www.kinopoisk.ru/film/251733?_858a3556addbcb318847de96daacd76b\"/><div class=\"captcha-wrapper\"><div class=\"captcha i-bem\" data-bem='{\"captcha\":{\"captchaSound\":\"https://www.kinopoisk.ru/captcha/voice?aHR0cHM6Ly9leHQuY2FwdGNoYS55YW5kZXgubmV0L3ZvaWNlP2tleT0wMEEzYWtrMDNNNHg0Mmhwb3FFSlJxdHdKelNJUGFLSQ,,_0/1594881723/d70b4dcf18c7c8e4ba94e7baf9703bc2_52b63212a2b37b7df1303bfa99fce209\",\"introSound\":\"https://www.kinopoisk.ru/captcha/voiceintro?aHR0cHM6Ly9leHQuY2FwdGNoYS55YW5kZXgubmV0L3N0YXRpYy9pbnRyby1ydS5tcDM,_0/1594881723/d70b4dcf18c7c8e4ba94e7baf9703bc2_045607ad217107c18bb9b1af3a49ea5c\"}}'><div class=\"captcha__image\"><img src=\"https://www.kinopoisk.ru/captchaimg?aHR0cHM6Ly9leHQuY2FwdGNoYS55YW5kZXgubmV0L2ltYWdlP2tleT0wMEEzYWtrMDNNNHg0Mmhwb3FFSlJxdHdKelNJUGFLSSZzZXJ2aWNlPWtpbm9wb2lzaw,,_0/1594881723/d70b4dcf18c7c8e4ba94e7baf9703bc2_adedff2f33c52edf1928cb26a154d34d\"/></div><div class=\"captcha__play-button\"><div class=\"captcha__play\"><div class=\"captcha__play-image\"></div><div class=\"captcha__play-text\">ÐÑÐ¾Ð¸Ð·Ð½ÐµÑÑÐ¸</div><div class=\"captcha__playing-text\">ÐÐ¾ÑÐ¿ÑÐ¾Ð¸Ð·Ð²Ð¾Ð´Ð¸ÑÑÑ</div></div></div></div></div><div class=\"actions i-bem\" data-bem='{\"actions\":{}}'><div class=\"actions__action-button actions__button actions__button_action_refresh\"><div class=\"actions__button-image\"></div><div>ÐÑÑÐ³Ð¾Ð¹ ÐºÐ¾Ð´</div></div><div class=\"actions__action-button actions__button actions__button_action_audio\"><div class=\"actions__button-image\"></div><div>ÐÑÐ´Ð¸Ð¾</div></div><div class=\"actions__action-button actions__button actions__button_action_text\"><div class=\"actions__button-image\"></div><div>ÐÐ·Ð¾Ð±ÑÐ°Ð¶ÐµÐ½Ð¸Ðµ</div></div></div><div class=\"input-wrapper input-wrapper_focused i-bem\" data-bem='{\"input-wrapper\":{}}'><div class=\"input-wrapper__input-field\"><input autocomplete=\"off\" autofocus=\"yes\" class=\"input-wrapper__content\" name=\"rep\"/><div class=\"input-wrapper__placeholder\">ÐÐ²ÐµÐ´Ð¸ÑÐµ ÐºÐ¾Ð´</div></div><div class=\"input-wrapper__wrong-text\">ÐÐµÐ²ÐµÑÐ½Ð¾, Ð¿Ð¾Ð¿ÑÐ¾Ð±ÑÐ¹ÑÐµ ÐµÑÐµ ÑÐ°Ð·</div><div class=\"input-wrapper__input-info input-wrapper__input-info_maxwidth_yes\">ÐÑÐ¿Ð¾Ð»ÑÐ·ÑÐ¹ÑÐµ ÑÑÑÐ¾ÑÐ½ÑÐµ Ð¸ Ð¿ÑÐ¾Ð¿Ð¸ÑÐ½ÑÐµ Ð±ÑÐºÐ²Ñ. ÐÐ½Ð°ÐºÐ¸ Ð¿ÑÐµÐ¿Ð¸Ð½Ð°Ð½Ð¸Ñ Ð¸ Ð¿ÑÐ¾Ð±ÐµÐ»Ñ Ð¼Ð¾Ð¶Ð½Ð¾ Ð¸Ð³Ð½Ð¾ÑÐ¸ÑÐ¾Ð²Ð°ÑÑ.</div></div><button class=\"submit\">ÐÑÐ¿ÑÐ°Ð²Ð¸ÑÑ Ð¸ Ð¿ÑÐ¾Ð´Ð¾Ð»Ð¶Ð¸ÑÑ</button></form><div class=\"text-wrapper text-wrapper_help\"><span>ÐÑÐ»Ð¸ Ñ Ð²Ð°Ñ Ð²Ð¾Ð·Ð½Ð¸ÐºÐ»Ð¸ Ð¿ÑÐ¾Ð±Ð»ÐµÐ¼Ñ, Ð¿Ð¾Ð¶Ð°Ð»ÑÐ¹ÑÑÐ°, Ð²Ð¾ÑÐ¿Ð¾Ð»ÑÐ·ÑÐ¹ÑÐµÑÑ </span><a class=\"link i-bem\" data-bem='{\"link\":{}}' href=\"https://yandex.ru/support/captcha/\" onclick=\"ym(10630330, 'reachGoal', 'support_complain', { 'req_id': '1594881723442594-4222239543137833113' }); return true;\" tabindex=\"0\">ÑÐ¾ÑÐ¼Ð¾Ð¹ Ð¾Ð±ÑÐ°ÑÐ½Ð¾Ð¹ ÑÐ²ÑÐ·Ð¸.</a></div></div><!--[if gt IE 8]><!--><script src=\"https://yastatic.net/jquery/2.2.3/jquery.min.js\"></script><!--<![endif]--><script data-verochka-params='{\"req_id\": \"1594881723442594-4222239543137833113\", \"service\": \"kinopoisk\"}' id=\"main-script\" src=\"captcha.min.js?rnd=420545506289\"></script><script src=\"https://yastatic.net/howler/2.0.0/howler.min.js\"></script>\n",
      "<!-- Yandex.Metrika counter -->\n",
      "<script type=\"text/javascript\">\n",
      "   (function(m,e,t,r,i,k,a){m[i]=m[i]||function(){(m[i].a=m[i].a||[]).push(arguments)};\n",
      "   m[i].l=1*new Date();k=e.createElement(t),a=e.getElementsByTagName(t)[0],k.async=1,k.src=r,a.parentNode.insertBefore(k,a)})\n",
      "   (window, document, \"script\", \"https://mc.yandex.ru/metrika/tag.js\", \"ym\");\n",
      "\n",
      "   ym(10630330, \"init\", {\n",
      "        clickmap:true,\n",
      "        trackLinks:true,\n",
      "        accurateTrackBounce:true,\n",
      "        webvisor:true,\n",
      "        ut:\"noindex\",\n",
      "        params:{ \"service\": \"kinopoisk\", \"req_id\": \"1594881723442594-4222239543137833113\", \"ident_type\": \"1\" }\n",
      "   });\n",
      "</script>\n",
      "<noscript><div><img alt=\"\" src=\"https://mc.yandex.ru/watch/10630330?ut=noindex\" style=\"position:absolute; left:-9999px;\"/></div></noscript>\n",
      "<!-- /Yandex.Metrika counter -->\n",
      "</body></html>\n",
      "Бан получен: https://www.kinopoisk.ru/film/251733/, good\n"
     ]
    }
   ],
   "source": [
    "path = './'\n",
    "urles = ['https://www.kinopoisk.ru/film/251733/', 'https://www.kinopoisk.ru/film/689/']\n",
    "statuses = ['good', 'bad', 'neutral']\n",
    "delays = [15, 20, 13, 18, 12.5, 13.5, 25, 12.3, 23]\n",
    "for url in urles:\n",
    "    for status in statuses:\n",
    "        try:\n",
    "            parsing(url = url, status = status, path=path)\n",
    "            print('one category done')\n",
    "            time.sleep(np.random.choice(delays))\n",
    "# Во время бана будет получена ошибка AttributeError\n",
    "        except AttributeError:\n",
    "            print('Бан получен: {}, {}'.format(url, status))\n",
    "            break\n",
    "# Блок else выполняется тогда, когда внутренний цикл НЕ прерывается\n",
    "# если внутренний цикл прерывается, то прерывается и внешний\n",
    "    else:\n",
    "        print('one url done')\n",
    "        continue\n",
    "    break"
   ]
  },
  {
   "cell_type": "code",
   "execution_count": null,
   "metadata": {},
   "outputs": [],
   "source": []
  }
 ],
 "metadata": {
  "kernelspec": {
   "display_name": "Python 3",
   "language": "python",
   "name": "python3"
  },
  "language_info": {
   "codemirror_mode": {
    "name": "ipython",
    "version": 3
   },
   "file_extension": ".py",
   "mimetype": "text/x-python",
   "name": "python",
   "nbconvert_exporter": "python",
   "pygments_lexer": "ipython3",
   "version": "3.7.6"
  }
 },
 "nbformat": 4,
 "nbformat_minor": 4
}
