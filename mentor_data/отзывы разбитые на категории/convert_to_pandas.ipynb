{
 "cells": [
  {
   "cell_type": "code",
   "execution_count": 15,
   "metadata": {},
   "outputs": [],
   "source": [
    "lst = []\n",
    "with open('appstore_parallels_modified_spaced.csv', 'r') as f:\n",
    "    lst.extend(f.readlines())\n",
    "\n",
    "lst_str = ''\n",
    "for i in lst:\n",
    "    lst_str += i\n",
    "    \n",
    "\n",
    "new_str = re.sub(r'\\n;\\n(0|1|4|5|6)\\n;\\n', lambda r: ',' + str(r.group(1)), lst_str)\n",
    "    \n",
    "#new_lst = re.split(r',[1-5],(?:(?:-1|0|1)\\n', lst_str)\n",
    "    \n",
    "with open('appstore_parallels_categories.csv', 'w') as f:\n",
    "    f.write(new_str)"
   ]
  },
  {
   "cell_type": "code",
   "execution_count": 4,
   "metadata": {},
   "outputs": [],
   "source": [
    "import re"
   ]
  },
  {
   "cell_type": "code",
   "execution_count": 17,
   "metadata": {},
   "outputs": [],
   "source": [
    "lst = []\n",
    "with open('TrustPilot_modified_spaced.csv', 'r') as f:\n",
    "    lst.extend(f.readlines())\n",
    "\n",
    "lst_str = ''\n",
    "for i in lst:\n",
    "    lst_str += i\n",
    "    \n",
    "\n",
    "new_str = re.sub(r'\\n;\\n(0|1|4|5|6)\\n;\\n', lambda r: ',' + str(r.group(1)), lst_str)\n",
    "    \n",
    "#new_lst = re.split(r',[1-5],(?:(?:-1|0|1)\\n', lst_str)\n",
    "    \n",
    "with open('TrustPilot_categories.csv', 'w') as f:\n",
    "    f.write(new_str)"
   ]
  },
  {
   "cell_type": "code",
   "execution_count": null,
   "metadata": {},
   "outputs": [],
   "source": []
  }
 ],
 "metadata": {
  "kernelspec": {
   "display_name": "Python 3",
   "language": "python",
   "name": "python3"
  },
  "language_info": {
   "codemirror_mode": {
    "name": "ipython",
    "version": 3
   },
   "file_extension": ".py",
   "mimetype": "text/x-python",
   "name": "python",
   "nbconvert_exporter": "python",
   "pygments_lexer": "ipython3",
   "version": "3.7.6"
  }
 },
 "nbformat": 4,
 "nbformat_minor": 4
}
